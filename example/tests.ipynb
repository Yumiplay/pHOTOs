
{
 "cells": [
  {
   "cell_type": "code",
   "execution_count": 1,
   "id": "deddf281",
   "metadata": {},
   "outputs": [],
   "source": [
    "import bitcoin_explorer as bex\n",
    "from tqdm.notebook import tqdm\n",
    "import random"
   ]
  },
  {
   "cell_type": "code",
   "execution_count": 2,
   "id": "edea286c",
   "metadata": {
    "scrolled": true
   },
   "outputs": [
    {
     "name": "stderr",
     "output_type": "stream",
     "text": [
      "[14:04:30] INFO - Start loading block_index\n",
      "[14:04:32] INFO - Longest chain: 701178\n",
      "[14:04:35] INFO - Successfully opened tx_index DB!\n"
     ]
    }
   ],
   "source": [
    "db = bex.BitcoinDB(\"/Volumes/Extreme SSD/bitcoin\")"
   ]
  },
  {
   "cell_type": "code",
   "execution_count": 3,
   "id": "06157a17",
   "metadata": {},
   "outputs": [
    {
     "data": {
      "text/plain": [
       "{'txid': '97d1b00fcef1f19531a19bb1722635341a9f2ad261ecf6eed89eca2cbd3bb3ee',\n",
       " 'input': [{'txid': 'ac348c1a49389c4408ac8541b79dba83a25a817f199c0a5474fc647494cb07e5',\n",
       "   'vout': 0}],\n",
       " 'output': [{'value': 2020000,\n",
       "   'script_type': 'Pay2PublicKeyHash',\n",
       "   'addresses': ['1JwhvD6mwpRzAhVKihWcxXPJNeFKJGgHUh']},\n",
       "  {'value': 300000,\n",
       "   'script_type': 'Pay2PublicKeyHash',\n",
       "   'addresses': ['13vCrWerFRP2rULtNUpV5bTipDfubVtm7U']}]}"
      ]
     },
     "execution_count": 3,
     "metadata": {},
     "output_type": "execute_result"
    }
   ],
   "source": [
    "db.get_transaction(\"97d1b00fcef1f19531a19bb1722635341a9f2ad261ecf6eed89eca2cbd3bb3ee\")"
   ]
  },
  {
   "cell_type": "code",
   "execution_count": 4,
   "id": "5b51a065",
   "metadata": {},
   "outputs": [
    {
     "data": {
      "text/plain": [
       "{'txid': '97d1b00fcef1f19531a19bb1722635341a9f2ad261ecf6eed89eca2cbd3bb3ee',\n",
       " 'input': [{'value': 2323200,\n",
       "   'script_type': 'Pay2ScriptHash',\n",
       "   'addresses': ['3GA77qTGUyPRT17j6UdBPdZ8uLr2rsNUzU']}],\n",
       " 'output': [{'value': 2020000,\n",
       "   'script_type': 'Pay2PublicKeyHash',\n",
       "   'addresses': ['1JwhvD6mwpRzAhVKihWcxXPJNeFKJGgHUh']},\n",
       "  {'value': 300000,\n",
       "   'script_type': 'Pay2PublicKeyHash',\n",
       "   'addresses': ['13vCrWerFRP2rULtNUpV5bTipDfubVtm7U']}]}"
      ]
     },
     "execution_count": 4,
     "metadata": {},
     "output_type": "execute_result"
    }
   ],
   "source": [
    "db.get_transaction(\"97d1b00fcef1f19531a19bb1722635341a9f2ad261ecf6eed89eca2cbd3bb3ee\", connected=True)"
   ]
  },
  {
   "cell_type": "code",
   "execution_count": 5,
   "id": "0faafc56",
   "metadata": {},
   "outputs": [
    {
     "data": {
      "text/plain": [
       "{'value': 2323200,\n",
       " 'script_type': 'Pay2ScriptHash',\n",
       " 'addresses': ['3GA77qTGUyPRT17j6UdBPdZ8uLr2rsNUzU']}"
      ]
     },
     "execution_count": 5,
     "metadata": {},
     "output_type": "execute_result"
    }
   ],
   "source": [
    "db.get_transaction(\"ac348c1a49389c4408ac8541b79dba83a25a817f199c0a5474fc647494cb07e5\")[\"output\"][0]"
   ]
  },
  {
   "cell_type": "code",
   "execution_count": 6,
   "id": "3f284d89",
   "metadata": {},
   "outputs": [],
   "source": [
    "big_blk = db.get_block(700000)"
   ]
  },
  {
   "cell_type": "code",
   "execution_count": 7,
   "id": "5b3b710d",
   "metadata": {},
   "outputs": [],
   "source": [
    "big_blk_connected = db.get_block(100000, connected=True)"
   ]
  },
  {
   "cell_type": "code",
   "execution_count": 8,
   "id": "11612390",
   "metadata": {},
   "outputs": [
    {
     "data": {
      "text/plain": [
       "4"
      ]
     },
     "execution_count": 8,
     "metadata": {},
     "output_type": "execute_result"
    }
   ],
   "source": [
    "len(big_blk_connected[\"txdata\"])"
   ]
  },
  {
   "cell_type": "code",
   "execution_count": 9,
   "id": "7deb3c21",
   "metadata": {},
   "outputs": [
    {
     "data": {
      "text/plain": [
       "701178"
      ]
     },
     "execution_count": 9,
     "metadata": {},
     "output_type": "execute_result"
    }
   ],
   "source": [
    "db.get_max_height()"
   ]