
{
 "cells": [
  {
   "cell_type": "code",
   "execution_count": 1,
   "id": "deddf281",
   "metadata": {},
   "outputs": [],
   "source": [
    "import bitcoin_explorer as bex\n",
    "from tqdm.notebook import tqdm\n",
    "import random"
   ]
  },
  {
   "cell_type": "code",
   "execution_count": 2,
   "id": "edea286c",
   "metadata": {
    "scrolled": true
   },
   "outputs": [